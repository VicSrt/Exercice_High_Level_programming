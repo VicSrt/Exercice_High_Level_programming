{
 "cells": [
  {
   "cell_type": "markdown",
   "metadata": {},
   "source": [
    "### Numpy basics"
   ]
  },
  {
   "cell_type": "markdown",
   "metadata": {},
   "source": [
    "1\\. Find the row, column and overall means for the following matrix:\n",
    "\n",
    "```python\n",
    "m = np.arange(12).reshape((3,4))\n",
    "```"
   ]
  },
  {
   "cell_type": "code",
   "execution_count": 9,
   "metadata": {},
   "outputs": [
    {
     "name": "stdout",
     "output_type": "stream",
     "text": [
      "[[ 0  1  2  3]\n",
      " [ 4  5  6  7]\n",
      " [ 8  9 10 11]]\n",
      "means of lines:\n",
      "1.5\n",
      "5.5\n",
      "9.5\n",
      "means of columns\n",
      "3.0\n",
      "3.75\n",
      "4.5\n",
      "5.25\n"
     ]
    }
   ],
   "source": [
    "import numpy as np\n",
    "m=np.arange(12).reshape((3,4))\n",
    "print(m)\n",
    "print('means of lines:')\n",
    "for i in range(3):\n",
    "    sum=0\n",
    "    for j in range(4):\n",
    "        sum+=m[i,j]\n",
    "    print (sum/4)\n",
    "print('means of columns')\n",
    "for j in range(4):\n",
    "    sum=0\n",
    "    for i in range(3):\n",
    "        sum+=m[i,j]\n",
    "    print (sum/4)"
   ]
  },
  {
   "cell_type": "markdown",
   "metadata": {},
   "source": [
    "2\\. Find the outer product of the following two vecotrs\n",
    "\n",
    "```python\n",
    "u = np.array([1,3,5,7])\n",
    "v = np.array([2,4,6,8])\n",
    "```\n",
    "\n",
    "Do this in the following ways:\n",
    "\n",
    "   * Using the function outer in numpy\n",
    "   * Using a nested for loop or list comprehension\n",
    "   * Using numpy broadcasting operatoins\n"
   ]
  },
  {
   "cell_type": "code",
   "execution_count": 10,
   "metadata": {},
   "outputs": [
    {
     "name": "stdout",
     "output_type": "stream",
     "text": [
      "[[ 2  4  6  8]\n",
      " [ 6 12 18 24]\n",
      " [10 20 30 40]\n",
      " [14 28 42 56]]\n",
      "[[ 2.  4.  6.  8.]\n",
      " [ 6. 12. 18. 24.]\n",
      " [10. 20. 30. 40.]\n",
      " [14. 28. 42. 56.]]\n",
      "100\n"
     ]
    }
   ],
   "source": [
    "import numpy as np\n",
    "\n",
    "u=np.array([1,3,5,7])\n",
    "v=np.array([2,4,6,8])\n",
    "\n",
    "result=np.outer(u,v)\n",
    "print(result)\n",
    "\n",
    "##loop\n",
    "result=np.zeros((4,4))\n",
    "for j in range(len(u)):\n",
    "    for i in range(len(v)):\n",
    "        result[j,i]= u[j]*v[i]\n",
    "   \n",
    "print(result)\n",
    "\n",
    "\n"
   ]
  },
  {
   "cell_type": "markdown",
   "metadata": {},
   "source": [
    "3\\. Create a 10 by 6 matrix of random uniform numbers. Set all rows with any entry less than 0.1 to be zero\n",
    "\n",
    "Hint: Use the following numpy functions - np.random.random, np.any as well as Boolean indexing and the axis argument."
   ]
  },
  {
   "cell_type": "code",
   "execution_count": 10,
   "metadata": {},
   "outputs": [
    {
     "name": "stdout",
     "output_type": "stream",
     "text": [
      "[[0.78534975 0.46458778 0.31093204 0.5936248  0.78376079 0.30821512]\n",
      " [0.3457326  0.63558508 0.18689994 0.79262866 0.78929374 0.5010709 ]\n",
      " [0.21863445 0.3398718  0.62596889 0.96980257 0.09559859 0.13646894]\n",
      " [0.84908596 0.89922102 0.83545259 0.79011717 0.96520451 0.47115463]\n",
      " [0.06460138 0.86685409 0.12288061 0.15808377 0.44267202 0.01619547]\n",
      " [0.5462553  0.40098003 0.92880322 0.48796997 0.09621741 0.71928491]\n",
      " [0.21366103 0.0251858  0.44444823 0.29542056 0.5988752  0.73612345]\n",
      " [0.85130297 0.88899087 0.26896909 0.24799646 0.83652811 0.72718016]\n",
      " [0.32846538 0.76864757 0.40210178 0.79913911 0.0232712  0.4463562 ]\n",
      " [0.55935599 0.73736185 0.63554493 0.01230986 0.45117745 0.21299321]]\n",
      "6\n",
      "[[0.78534975 0.46458778 0.31093204 0.5936248  0.78376079 0.30821512]\n",
      " [0.3457326  0.63558508 0.18689994 0.79262866 0.78929374 0.5010709 ]\n",
      " [0.21863445 0.3398718  0.62596889 0.96980257 0.         0.13646894]\n",
      " [0.84908596 0.89922102 0.83545259 0.79011717 0.96520451 0.47115463]\n",
      " [0.         0.86685409 0.12288061 0.15808377 0.44267202 0.        ]\n",
      " [0.5462553  0.40098003 0.92880322 0.48796997 0.         0.71928491]\n",
      " [0.21366103 0.         0.44444823 0.29542056 0.5988752  0.73612345]\n",
      " [0.85130297 0.88899087 0.26896909 0.24799646 0.83652811 0.72718016]\n",
      " [0.32846538 0.76864757 0.40210178 0.79913911 0.         0.4463562 ]\n",
      " [0.55935599 0.73736185 0.63554493 0.         0.45117745 0.21299321]]\n"
     ]
    }
   ],
   "source": [
    "import numpy as np\n",
    "\n",
    "m=np.random.random_sample((10,6))\n",
    "print(m)\n",
    "print(len(m[1]))\n",
    "for j in range(len(m[1])):\n",
    "    for i in range(len(m)):\n",
    "        if(m[i,j]<=0.1):\n",
    "            m[i,j]=0\n",
    "print(m)"
   ]
  },
  {
   "cell_type": "markdown",
   "metadata": {},
   "source": [
    "4\\. Use np.linspace to create an array of 100 numbers between 0 and 2π (includsive).\n",
    "\n",
    "  * Extract every 10th element using slice notation\n",
    "  * Reverse the array using slice notation\n",
    "  * Extract elements where the absolute difference between the sine and cosine functions evaluated at that element is less than 0.1\n",
    "  * Make a plot showing the sin and cos functions and indicate where they are close"
   ]
  },
  {
   "cell_type": "code",
   "execution_count": 54,
   "metadata": {},
   "outputs": [
    {
     "name": "stdout",
     "output_type": "stream",
     "text": [
      "[0.         0.06346652 0.12693304 0.19039955 0.25386607 0.31733259\n",
      " 0.38079911 0.44426563 0.50773215 0.57119866 0.63466518 0.6981317\n",
      " 0.76159822 0.82506474 0.88853126 0.95199777 1.01546429 1.07893081\n",
      " 1.14239733 1.20586385 1.26933037 1.33279688 1.3962634  1.45972992\n",
      " 1.52319644 1.58666296 1.65012947 1.71359599 1.77706251 1.84052903\n",
      " 1.90399555 1.96746207 2.03092858 2.0943951  2.15786162 2.22132814\n",
      " 2.28479466 2.34826118 2.41172769 2.47519421 2.53866073 2.60212725\n",
      " 2.66559377 2.72906028 2.7925268  2.85599332 2.91945984 2.98292636\n",
      " 3.04639288 3.10985939 3.17332591 3.23679243 3.30025895 3.36372547\n",
      " 3.42719199 3.4906585  3.55412502 3.61759154 3.68105806 3.74452458\n",
      " 3.8079911  3.87145761 3.93492413 3.99839065 4.06185717 4.12532369\n",
      " 4.1887902  4.25225672 4.31572324 4.37918976 4.44265628 4.5061228\n",
      " 4.56958931 4.63305583 4.69652235 4.75998887 4.82345539 4.88692191\n",
      " 4.95038842 5.01385494 5.07732146 5.14078798 5.2042545  5.26772102\n",
      " 5.33118753 5.39465405 5.45812057 5.52158709 5.58505361 5.64852012\n",
      " 5.71198664 5.77545316 5.83891968 5.9023862  5.96585272 6.02931923\n",
      " 6.09278575 6.15625227 6.21971879 6.28318531]\n"
     ]
    },
    {
     "data": {
      "image/png": "[encoded data removed]",
      "text/plain": [
       "<Figure size 432x288 with 1 Axes>"
      ]
     },
     "metadata": {
      "needs_background": "light"
     },
     "output_type": "display_data"
    }
   ],
   "source": [
    "import matplotlib.pyplot as plt\n",
    "\n",
    "m=np.linspace(0,2*np.pi,100)\n",
    "print(m)\n",
    "m_filtered=m[np.linspace(9,99,10,dtype=int)]\n",
    "#print(m_filtered)\n",
    "\n",
    "m_reverse=m[np.linspace(99,0,100,dtype=int)]\n",
    "#print(m_reverse)\n",
    "\n",
    "m_extracted=m[np.absolute(np.sin(m)-np.cos(m))<0.1]\n",
    "#print(m_extracted)\n",
    "\n",
    "plt.plot(np.sin(m))\n",
    "plt.plot(np.cos(m))\n",
    "plt.annotate('equality',xy=(20,0.75), xytext=(20,0.75))\n",
    "plt.annotate('equality',xy=(60,-0.75))\n",
    "plt.show()"
   ]
  },
  {
   "cell_type": "markdown",
   "metadata": {},
   "source": [
    "5\\. Create a matrix that shows the 10 by 10 multiplication table.\n",
    "\n",
    " * Find the trace of the matrix\n",
    " * Extract the anto-diagonal (this should be ```array([10, 18, 24, 28, 30, 30, 28, 24, 18, 10])```)\n",
    " * Extract the diagnoal offset by 1 upwards (this should be ```array([ 2,  6, 12, 20, 30, 42, 56, 72, 90])```)"
   ]
  },
  {
   "cell_type": "code",
   "execution_count": 66,
   "metadata": {},
   "outputs": [
    {
     "name": "stdout",
     "output_type": "stream",
     "text": [
      "[[  1.   2.   3.   4.   5.   6.   7.   8.   9.  10.]\n",
      " [  2.   4.   6.   8.  10.  12.  14.  16.  18.  20.]\n",
      " [  3.   6.   9.  12.  15.  18.  21.  24.  27.  30.]\n",
      " [  4.   8.  12.  16.  20.  24.  28.  32.  36.  40.]\n",
      " [  5.  10.  15.  20.  25.  30.  35.  40.  45.  50.]\n",
      " [  6.  12.  18.  24.  30.  36.  42.  48.  54.  60.]\n",
      " [  7.  14.  21.  28.  35.  42.  49.  56.  63.  70.]\n",
      " [  8.  16.  24.  32.  40.  48.  56.  64.  72.  80.]\n",
      " [  9.  18.  27.  36.  45.  54.  63.  72.  81.  90.]\n",
      " [ 10.  20.  30.  40.  50.  60.  70.  80.  90. 100.]]\n",
      "385.0 385.0\n",
      "[10.0, 18.0, 24.0, 28.0, 30.0, 30.0, 28.0, 24.0, 18.0]\n"
     ]
    }
   ],
   "source": [
    "m=np.zeros((10,10))\n",
    "for j in range(len(m[1])):\n",
    "    for i in range(len(m)):\n",
    "        m[i,j]=(i+1)*(j+1)\n",
    "print(m)\n",
    "\n",
    "tr=np.trace(m)\n",
    "tr2=0\n",
    "for i in range(10): tr2+=m[i,i]\n",
    "print(tr, tr2)\n",
    "\n",
    "\n",
    "anto_diag=[m[9-i,i] for i in range(0,9)]\n",
    "print(anto_diag)"
   ]
  },
  {
   "cell_type": "markdown",
   "metadata": {},
   "source": [
    "6\\. Use broadcasting to create a grid of distances\n",
    "\n",
    "Route 66 crosses the following cities in the US: Chicago, Springfield, Saint-Louis, Tulsa, Oklahoma City, Amarillo, Santa Fe, Albuquerque, Flagstaff, Los Angeles\n",
    "The corresponding positions in miles are: 0, 198, 303, 736, 871, 1175, 1475, 1544, 1913, 2448\n",
    "\n",
    "  * Construct a 2D grid of distances among each city along Route 66\n",
    "  * Convert that in km (those savages...)"
   ]
  },
  {
   "cell_type": "code",
   "execution_count": 72,
   "metadata": {},
   "outputs": [
    {
     "name": "stdout",
     "output_type": "stream",
     "text": [
      "[[   0.    0.    0.    0.    0.    0.    0.    0.    0.    0.]\n",
      " [ 198.    0.    0.    0.    0.    0.    0.    0.    0.    0.]\n",
      " [ 303.    0.    0.    0.    0.    0.    0.    0.    0.    0.]\n",
      " [ 736.    0.    0.    0.    0.    0.    0.    0.    0.    0.]\n",
      " [ 871.    0.    0.    0.    0.    0.    0.    0.    0.    0.]\n",
      " [1175.    0.    0.    0.    0.    0.    0.    0.    0.    0.]\n",
      " [1475.    0.    0.    0.    0.    0.    0.    0.    0.    0.]\n",
      " [1544.    0.    0.    0.    0.    0.    0.    0.    0.    0.]\n",
      " [1913.    0.    0.    0.    0.    0.    0.    0.    0.    0.]\n",
      " [2448.    0.    0.    0.    0.    0.    0.    0.    0.    0.]]\n",
      "[[   0.  198.  303.  736.  871. 1175. 1475. 1544. 1913. 2448.]\n",
      " [ 198.    0.  105.  538.  673.  977. 1277. 1346. 1715. 2250.]\n",
      " [ 303.  105.    0.  433.  568.  872. 1172. 1241. 1610. 2145.]\n",
      " [ 736.  538.  433.    0.  135.  439.  739.  808. 1177. 1712.]\n",
      " [ 871.  673.  568.  135.    0.  304.  604.  673. 1042. 1577.]\n",
      " [1175.  977.  872.  439.  304.    0.  300.  369.  738. 1273.]\n",
      " [1475. 1277. 1172.  739.  604.  300.    0.   69.  438.  973.]\n",
      " [1544. 1346. 1241.  808.  673.  369.   69.    0.  369.  904.]\n",
      " [1913. 1715. 1610. 1177. 1042.  738.  438.  369.    0.  535.]\n",
      " [2448. 2250. 2145. 1712. 1577. 1273.  973.  904.  535.    0.]]\n",
      "[[   0.   316.8  484.8 1177.6 1393.6 1880.  2360.  2470.4 3060.8 3916.8]\n",
      " [ 316.8    0.   168.   860.8 1076.8 1563.2 2043.2 2153.6 2744.  3600. ]\n",
      " [ 484.8  168.     0.   692.8  908.8 1395.2 1875.2 1985.6 2576.  3432. ]\n",
      " [1177.6  860.8  692.8    0.   216.   702.4 1182.4 1292.8 1883.2 2739.2]\n",
      " [1393.6 1076.8  908.8  216.     0.   486.4  966.4 1076.8 1667.2 2523.2]\n",
      " [1880.  1563.2 1395.2  702.4  486.4    0.   480.   590.4 1180.8 2036.8]\n",
      " [2360.  2043.2 1875.2 1182.4  966.4  480.     0.   110.4  700.8 1556.8]\n",
      " [2470.4 2153.6 1985.6 1292.8 1076.8  590.4  110.4    0.   590.4 1446.4]\n",
      " [3060.8 2744.  2576.  1883.2 1667.2 1180.8  700.8  590.4    0.   856. ]\n",
      " [3916.8 3600.  3432.  2739.2 2523.2 2036.8 1556.8 1446.4  856.     0. ]]\n"
     ]
    }
   ],
   "source": [
    "m=np.zeros((10,10))\n",
    "m[:,0]=[0, 198, 303, 736, 871, 1175, 1475, 1544, 1913, 2448]\n",
    "print(m)\n",
    "for j in range(1,10):\n",
    "    for i in range(0,10):\n",
    "        m[i,j]=np.absolute(m[i,0]-m[j,0])\n",
    "print(m)\n",
    "m=m*1.6\n",
    "print(m)"
   ]
  },
  {
   "cell_type": "markdown",
   "metadata": {},
   "source": [
    "7\\. Prime numbers sieve: compute the prime numbers in the 0-N (N=99 to start with) range with a sieve (mask).\n",
    "  * Constract a shape (100,) boolean array, the mask\n",
    "  * Identify the multiples of each number starting from 2 and set accordingly the corresponding mask element\n",
    "  * Apply the mask to obtain an array of ordered prime numbers\n",
    "  * Check the performances (timeit); how does it scale with N?\n",
    "  * Implement the optimization suggested in the [sieve of Eratosthenes](https://en.wikipedia.org/wiki/Sieve_of_Eratosthenes)"
   ]
  },
  {
   "cell_type": "code",
   "execution_count": null,
   "metadata": {},
   "outputs": [],
   "source": []
  },
  {
   "cell_type": "markdown",
   "metadata": {},
   "source": [
    "8\\. Diffusion using random walk\n",
    "\n",
    "Consider a simple random walk process: at each step in time, a walker jumps right or left (+1 or -1) with equal probability. The goal is to find the typical distance from the origin of a random walker after a given amount of time. \n",
    "To do that, let's simulate many walkers and create a 2D array with each walker as a raw and the actual time evolution as columns\n",
    "\n",
    "  * Take 1000 walkers and let them walk for 200 steps\n",
    "  * Use randint to create a 2D array of size walkers x steps with values -1 or 1\n",
    "  * Build the actual walking distances for each walker (i.e. another 2D array \"summing on each raw\")\n",
    "  * Take the square of that 2D array (elementwise)\n",
    "  * Compute the mean of the squared distances at each step (i.e. the mean along the columns)\n",
    "  * Plot the average distances (sqrt(distance\\*\\*2)) as a function of time (step)\n",
    "  \n",
    "Did you get what you expected?"
   ]
  },
  {
   "cell_type": "code",
   "execution_count": 34,
   "metadata": {},
   "outputs": [
    {
     "name": "stdout",
     "output_type": "stream",
     "text": [
      "1000\n",
      "[[  1.   2.   3. ...  -2.  -1.  -2.]\n",
      " [ -1.   0.  -1. ...   2.   3.   4.]\n",
      " [  1.   0.   1. ...   6.   7.   8.]\n",
      " ...\n",
      " [ -1.   0.   1. ...   0.   1.   0.]\n",
      " [ -1.  -2.  -1. ...   4.   3.   4.]\n",
      " [ -1.   0.  -1. ... -14. -15. -16.]]\n",
      "[[  1.   4.   9. ...   4.   1.   4.]\n",
      " [  1.   0.   1. ...   4.   9.  16.]\n",
      " [  1.   0.   1. ...  36.  49.  64.]\n",
      " ...\n",
      " [  1.   0.   1. ...   0.   1.   0.]\n",
      " [  1.   4.   1. ...  16.   9.  16.]\n",
      " [  1.   0.   1. ... 196. 225. 256.]]\n",
      "[  1.      2.044   3.192   4.008   5.12    6.072   6.936   7.924   8.824\n",
      "   9.668  10.752  11.352  12.616  13.668  14.896  15.82   16.616  17.3\n",
      "  18.184  19.636  20.584  21.576  22.504  23.604  24.744  26.08   27.32\n",
      "  28.828  29.464  30.064  31.144  32.2    32.864  34.276  35.256  35.588\n",
      "  36.384  37.34   37.624  39.168  41.032  41.956  42.744  43.256  44.536\n",
      "  45.26   46.384  46.7    47.496  49.724  50.8    52.04   52.976  53.928\n",
      "  54.496  55.26   56.888  57.276  58.848  60.368  62.376  63.832  65.184\n",
      "  66.236  67.288  68.224  69.344  71.044  72.32   73.42   75.136  76.616\n",
      "  77.496  79.04   79.328  79.528  80.008  80.368  81.912  83.572  84.864\n",
      "  85.744  86.808  87.596  87.496  88.16   89.616  90.06   92.256  93.788\n",
      "  94.656  97.196  97.824  99.092  99.752  99.676  99.176 100.296 101.576\n",
      " 102.012 102.64  103.84  104.808 106.54  108.352 109.564 110.816 112.336\n",
      " 113.552 114.892 114.84  114.84  115.648 116.156 115.632 116.544 117.376\n",
      " 117.796 118.96  120.636 121.104 121.908 122.496 123.924 124.8   126.028\n",
      " 126.512 128.424 130.52  131.304 131.784 132.312 134.168 135.344 135.68\n",
      " 137.276 138.832 140.576 141.664 142.128 143.544 144.392 144.888 145.716\n",
      " 145.44  148.172 148.12  148.712 150.552 151.372 151.792 152.656 152.2\n",
      " 152.128 153.184 155.48  157.272 158.692 159.088 160.292 162.016 162.604\n",
      " 164.52  165.052 166.24  166.124 167.392 167.44  168.584 171.752 172.384\n",
      " 172.512 173.448 174.708 176.184 177.324 178.12  178.136 179.072 179.188\n",
      " 180.928 182.504 183.008 184.488 184.688 183.688 183.336 183.66  185.744\n",
      " 186.912 188.84  189.96  191.688 191.396 193.2   194.972 197.096 197.54\n",
      " 199.624 200.748]\n"
     ]
    },
    {
     "data": {
      "image/png": "[encoded data removed]",
      "text/plain": [
       "<Figure size 432x288 with 1 Axes>"
      ]
     },
     "metadata": {
      "needs_background": "light"
     },
     "output_type": "display_data"
    }
   ],
   "source": [
    "import numpy as np\n",
    "import matplotlib.pyplot as plt\n",
    "rand=np.random.randint(2, size=(1000,200))\n",
    "\n",
    "rand[rand==0]=-1\n",
    "sum=np.zeros((1000,200))\n",
    "print(len(rand))\n",
    "sum[:,0]=rand[:,0]\n",
    "for i in range(1,len(rand[1])):\n",
    "    sum[:,i]=sum[:,i-1]+rand[:,i]\n",
    "\n",
    "\n",
    "print(sum)\n",
    "sum2=np.square(sum)\n",
    "print(sum2)\n",
    "\n",
    "aver=np.zeros(200)\n",
    "for j in range(len(sum2[1])):\n",
    "    for i in range(len(sum2)):\n",
    "        aver[j]+=sum2[i,j]\n",
    "print(aver/1000)    \n",
    "\n",
    "X=np.linspace(0,200,200)\n",
    "plt.plot(pow(aver**2,0.5))\n",
    "plt.show()\n",
    "\n",
    "#Linear expression because of the equal probability and the binomial low.\n"
   ]
  },
  {
   "cell_type": "markdown",
   "metadata": {},
   "source": [
    "9\\. Analyze a data file \n",
    "  * Download the population of hares, lynxes and carrots at the beginning of the last century.\n",
    "    ```python\n",
    "    ! wget https://www.dropbox.com/s/3vigxoqayo389uc/populations.txt\n",
    "    ```\n",
    "\n",
    "  * Check the content by looking within the file\n",
    "  * Load the data (use an appropriate numpy method) into a 2D array\n",
    "  * Create arrays out of the columns, the arrays being (in order): *year*, *hares*, *lynxes*, *carrots* \n",
    "  * Plot the 3 populations over the years\n",
    "  * Compute the main statistical properties of the dataset (mean, std, correlations, etc.)\n",
    "  * Which species has the highest population each year?\n",
    "\n",
    "Do you feel there is some evident correlation here? [Studies](https://www.enr.gov.nt.ca/en/services/lynx/lynx-snowshoe-hare-cycle) tend to believe so."
   ]
  },
  {
   "cell_type": "code",
   "execution_count": 40,
   "metadata": {},
   "outputs": [
    {
     "name": "stdout",
     "output_type": "stream",
     "text": [
      "[[ 1900. 30000.  4000. 48300.]\n",
      " [ 1901. 47200.  6100. 48200.]\n",
      " [ 1902. 70200.  9800. 41500.]\n",
      " [ 1903. 77400. 35200. 38200.]\n",
      " [ 1904. 36300. 59400. 40600.]\n",
      " [ 1905. 20600. 41700. 39800.]\n",
      " [ 1906. 18100. 19000. 38600.]\n",
      " [ 1907. 21400. 13000. 42300.]\n",
      " [ 1908. 22000.  8300. 44500.]\n",
      " [ 1909. 25400.  9100. 42100.]\n",
      " [ 1910. 27100.  7400. 46000.]\n",
      " [ 1911. 40300.  8000. 46800.]\n",
      " [ 1912. 57000. 12300. 43800.]\n",
      " [ 1913. 76600. 19500. 40900.]\n",
      " [ 1914. 52300. 45700. 39400.]\n",
      " [ 1915. 19500. 51100. 39000.]\n",
      " [ 1916. 11200. 29700. 36700.]\n",
      " [ 1917.  7600. 15800. 41800.]\n",
      " [ 1918. 14600.  9700. 43300.]\n",
      " [ 1919. 16200. 10100. 41300.]\n",
      " [ 1920. 24700.  8600. 47300.]]\n"
     ]
    }
   ],
   "source": [
    "import numpy as np\n",
    "txt = np.loadtxt(fname =\"C:/Users/victo/Documents/UNIPD/HighLevelProgramming/LaboratoryOfComputationalPhysics/populations.txt\")\n",
    "print(txt)"
   ]
  }
 ],
 "metadata": {
  "kernelspec": {
   "display_name": "Python 3",
   "language": "python",
   "name": "python3"
  },
  "language_info": {
   "codemirror_mode": {
    "name": "ipython",
    "version": 3
   },
   "file_extension": ".py",
   "mimetype": "text/x-python",
   "name": "python",
   "nbconvert_exporter": "python",
   "pygments_lexer": "ipython3",
   "version": "3.7.0"
  }
 },
 "nbformat": 4,
 "nbformat_minor": 2
}
